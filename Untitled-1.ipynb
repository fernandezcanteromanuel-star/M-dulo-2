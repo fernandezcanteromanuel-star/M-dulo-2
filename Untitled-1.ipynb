{
 "cells": [
  {
   "cell_type": "code",
   "execution_count": null,
   "id": "65a59ba1",
   "metadata": {},
   "outputs": [],
   "source": [
    "class Tranquila:\n",
    "    def __init__(self, mensaje=\"Todo está bien\"):\n",
    "        self.mensaje = mensaje\n",
    "\n",
    "    def mostrar_mensaje(self):\n",
    "        print(self.mensaje)"
   ]
  }
 ],
 "metadata": {
  "language_info": {
   "name": "python"
  }
 },
 "nbformat": 4,
 "nbformat_minor": 5
}
