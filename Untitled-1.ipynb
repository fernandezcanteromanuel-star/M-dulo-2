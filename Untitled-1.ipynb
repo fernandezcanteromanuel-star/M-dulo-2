{
 "cells": [
  {
   "cell_type": "code",
   "execution_count": 2,
   "id": "65a59ba1",
   "metadata": {},
   "outputs": [],
   "source": [
    "class Tranquila:\n",
    "    def __init__(self, mensaje=\"Todo está bien\"):\n",
    "        self.mensaje = mensaje\n",
    "\n",
    "    def mostrar_mensaje(self):\n",
    "        print(self.mensaje)"
   ]
  },
  {
   "cell_type": "code",
   "execution_count": null,
   "id": "adadd4dd",
   "metadata": {},
   "outputs": [],
   "source": [
    "class Tranquila2:\n",
    "    def __init__(self, mensaje=\"La calma es poder\"):\n",
    "        self.mensaje = mensaje\n",
    "\n",
    "    def mostrar_mensaje(self):\n",
    "        print(self.mensaje)"
   ]
  }
 ],
 "metadata": {
  "kernelspec": {
   "display_name": "base",
   "language": "python",
   "name": "python3"
  },
  "language_info": {
   "codemirror_mode": {
    "name": "ipython",
    "version": 3
   },
   "file_extension": ".py",
   "mimetype": "text/x-python",
   "name": "python",
   "nbconvert_exporter": "python",
   "pygments_lexer": "ipython3",
   "version": "3.13.5"
  }
 },
 "nbformat": 4,
 "nbformat_minor": 5
}
