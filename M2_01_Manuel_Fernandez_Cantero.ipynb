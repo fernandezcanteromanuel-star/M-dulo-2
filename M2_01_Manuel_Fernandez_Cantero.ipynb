{
 "cells": [
  {
   "cell_type": "code",
   "execution_count": 5,
   "id": "65a59ba1",
   "metadata": {},
   "outputs": [],
   "source": [
    "# Variables de cada tipo \n",
    "\n",
    "a = 123          #Entero\n",
    "b = 4.5          #Flotante\n",
    "c = 'hola'       #String\n",
    "d = False        #Booleano"
   ]
  },
  {
   "cell_type": "code",
   "execution_count": 7,
   "id": "3d35a046",
   "metadata": {},
   "outputs": [
    {
     "name": "stdout",
     "output_type": "stream",
     "text": [
      "ManuelFernández Cantero\n",
      "ManuelFernández Cantero ,\n"
     ]
    },
    {
     "ename": "TypeError",
     "evalue": "can only concatenate str (not \"int\") to str",
     "output_type": "error",
     "traceback": [
      "\u001b[31m---------------------------------------------------------------------------\u001b[39m",
      "\u001b[31mTypeError\u001b[39m                                 Traceback (most recent call last)",
      "\u001b[36mCell\u001b[39m\u001b[36m \u001b[39m\u001b[32mIn[7]\u001b[39m\u001b[32m, line 8\u001b[39m\n\u001b[32m      6\u001b[39m \u001b[38;5;28mprint\u001b[39m(nombre + apellidos)\n\u001b[32m      7\u001b[39m \u001b[38;5;28mprint\u001b[39m(nombre + apellidos, \u001b[33m'\u001b[39m\u001b[33m,\u001b[39m\u001b[33m'\u001b[39m)\n\u001b[32m----> \u001b[39m\u001b[32m8\u001b[39m \u001b[38;5;28mprint\u001b[39m(\u001b[43mnombre\u001b[49m\u001b[43m \u001b[49m\u001b[43m+\u001b[49m\u001b[43m \u001b[49m\u001b[32;43m3\u001b[39;49m)          \u001b[38;5;66;03m#Error, no se puede sumar nombre con 3\u001b[39;00m\n",
      "\u001b[31mTypeError\u001b[39m: can only concatenate str (not \"int\") to str"
     ]
    }
   ],
   "source": [
    "# Nombre y apellidos\n",
    "\n",
    "nombre = 'Manuel'\n",
    "apellidos = 'Fernández Cantero'\n",
    "\n",
    "print(nombre + apellidos)\n",
    "print(nombre + apellidos, ',')\n",
    "print(nombre + 3)          #Error, no se puede sumar nombre con 3"
   ]
  },
  {
   "cell_type": "code",
   "execution_count": 8,
   "id": "ad83ddd5",
   "metadata": {},
   "outputs": [
    {
     "name": "stdout",
     "output_type": "stream",
     "text": [
      "Manuel Fernández Cantero\n",
      "\n"
     ]
    }
   ],
   "source": [
    "# Nombre Completo\n",
    "nombreCompleto = nombre + ' ' + apellidos\n",
    "print(nombreCompleto)\n",
    "print(nombreCompleto[0:0])"
   ]
  },
  {
   "cell_type": "code",
   "execution_count": null,
   "id": "76c1373c",
   "metadata": {},
   "outputs": [],
   "source": []
  }
 ],
 "metadata": {
  "kernelspec": {
   "display_name": "base",
   "language": "python",
   "name": "python3"
  },
  "language_info": {
   "codemirror_mode": {
    "name": "ipython",
    "version": 3
   },
   "file_extension": ".py",
   "mimetype": "text/x-python",
   "name": "python",
   "nbconvert_exporter": "python",
   "pygments_lexer": "ipython3",
   "version": "3.13.5"
  }
 },
 "nbformat": 4,
 "nbformat_minor": 5
}
