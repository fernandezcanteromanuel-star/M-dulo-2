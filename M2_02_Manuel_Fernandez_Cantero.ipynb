{
 "cells": [
  {
   "cell_type": "code",
   "execution_count": 1,
   "id": "60023488",
   "metadata": {},
   "outputs": [
    {
     "name": "stdout",
     "output_type": "stream",
     "text": [
      "La nota media es 6.0\n"
     ]
    }
   ],
   "source": [
    "n1 = 7\n",
    "n2 = 8\n",
    "n3 = 0\n",
    "n4 = 5\n",
    "n5 = 10\n",
    "media = (n1+n2+n3+n4+n5)/5\n",
    "print('La nota media es ' + str(media))"
   ]
  },
  {
   "cell_type": "code",
   "execution_count": 3,
   "id": "0c525c5e",
   "metadata": {},
   "outputs": [
    {
     "name": "stdout",
     "output_type": "stream",
     "text": [
      "La nota media usando math es 6.0\n"
     ]
    }
   ],
   "source": [
    "import math\n",
    "\n",
    "media_math = math.fsum([n1, n2, n3, n4, n5]) / 5\n",
    "print('La nota media usando math es', media_math)"
   ]
  },
  {
   "cell_type": "code",
   "execution_count": 6,
   "id": "2756198b",
   "metadata": {},
   "outputs": [
    {
     "name": "stdout",
     "output_type": "stream",
     "text": [
      "447.12\n"
     ]
    }
   ],
   "source": [
    "# Redondeo\n",
    "\n",
    "redondeo = ((365/12)*14.7)\n",
    "print(round(redondeo, 2))"
   ]
  },
  {
   "cell_type": "code",
   "execution_count": 13,
   "id": "c021067d",
   "metadata": {},
   "outputs": [
    {
     "name": "stdout",
     "output_type": "stream",
     "text": [
      "Username: True\n",
      "Password: False\n"
     ]
    }
   ],
   "source": [
    "# User y passw\n",
    "\n",
    "username = str(input('Introducir username: '))\n",
    "password = str(input('Introducir password: '))\n",
    "\n",
    "if len(username) >= 3 and len(username) < 10:\n",
    "    print('Username: True')\n",
    "else:\n",
    "    print('Username: False')\n",
    "\n",
    "if password == 'Tokio' or password == 'Python':\n",
    "    print('Password: True')\n",
    "else:\n",
    "    print('Password: False')"
   ]
  },
  {
   "cell_type": "code",
   "execution_count": 15,
   "id": "812dda33",
   "metadata": {},
   "outputs": [
    {
     "name": "stdout",
     "output_type": "stream",
     "text": [
      "num1 = 7\n",
      "num2 = 4\n",
      "num1 = 8\n",
      "num2 = 2\n",
      "num1 = 24\n",
      "num2 = 1.0\n"
     ]
    }
   ],
   "source": [
    "#num1 y num2\n",
    "\n",
    "num1 = 7\n",
    "print('num1 =', str(num1))    #Principio numm1\n",
    "num2 = 4\n",
    "print('num2 =', str(num2))    #Principio numm2\n",
    "num1 += 1\n",
    "print('num1 =', str(num1))    #Actualizacion num1\n",
    "num2 -= 2\n",
    "print('num2 =', str(num2))    #Actualizacion num2\n",
    "num1 *= 3\n",
    "print('num1 =', str(num1))    #num1 final\n",
    "num2 /= 2\n",
    "print('num2 =', str(num2))    #num2 final\n"
   ]
  },
  {
   "cell_type": "code",
   "execution_count": null,
   "id": "b324289c",
   "metadata": {},
   "outputs": [],
   "source": []
  }
 ],
 "metadata": {
  "kernelspec": {
   "display_name": "base",
   "language": "python",
   "name": "python3"
  },
  "language_info": {
   "codemirror_mode": {
    "name": "ipython",
    "version": 3
   },
   "file_extension": ".py",
   "mimetype": "text/x-python",
   "name": "python",
   "nbconvert_exporter": "python",
   "pygments_lexer": "ipython3",
   "version": "3.13.5"
  }
 },
 "nbformat": 4,
 "nbformat_minor": 5
}
