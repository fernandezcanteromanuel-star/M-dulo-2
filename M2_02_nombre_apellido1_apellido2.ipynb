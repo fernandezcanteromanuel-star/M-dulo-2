{
 "cells": [
  {
   "cell_type": "code",
   "execution_count": 1,
   "id": "60023488",
   "metadata": {},
   "outputs": [
    {
     "name": "stdout",
     "output_type": "stream",
     "text": [
      "La nota media es 6.0\n"
     ]
    }
   ],
   "source": [
    "n1 = 7\n",
    "n2 = 8\n",
    "n3 = 0\n",
    "n4 = 5\n",
    "n5 = 10\n",
    "media = (n1+n2+n3+n4+n5)/5\n",
    "print('La nota media es ' + str(media))"
   ]
  },
  {
   "cell_type": "code",
   "execution_count": 3,
   "id": "0c525c5e",
   "metadata": {},
   "outputs": [
    {
     "name": "stdout",
     "output_type": "stream",
     "text": [
      "La nota media usando math es 6.0\n"
     ]
    }
   ],
   "source": [
    "import math\n",
    "\n",
    "media_math = math.fsum([n1, n2, n3, n4, n5]) / 5\n",
    "print('La nota media usando math es', media_math)"
   ]
  },
  {
   "cell_type": "code",
   "execution_count": null,
   "id": "2756198b",
   "metadata": {},
   "outputs": [],
   "source": []
  }
 ],
 "metadata": {
  "kernelspec": {
   "display_name": "base",
   "language": "python",
   "name": "python3"
  },
  "language_info": {
   "codemirror_mode": {
    "name": "ipython",
    "version": 3
   },
   "file_extension": ".py",
   "mimetype": "text/x-python",
   "name": "python",
   "nbconvert_exporter": "python",
   "pygments_lexer": "ipython3",
   "version": "3.13.5"
  }
 },
 "nbformat": 4,
 "nbformat_minor": 5
}
